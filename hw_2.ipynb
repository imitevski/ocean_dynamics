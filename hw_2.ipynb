{
 "cells": [
  {
   "cell_type": "code",
   "execution_count": 2,
   "metadata": {
    "collapsed": true
   },
   "outputs": [],
   "source": [
    "import numpy as np\n",
    "import matplotlib.pyplot as plt"
   ]
  },
  {
   "cell_type": "markdown",
   "metadata": {},
   "source": [
    "### Problem 1\n",
    "**Write a script to plot the solution of the ventilated thermocline problem (h_1 and h_2) as a function of the wind stress and other parameters (H_e, y_2, etc.). Make several different plots which explore the parameter space.\n",
    "You do not have to plot any solution in the pool or shadow zone regions.**"
   ]
  },
  {
   "cell_type": "markdown",
   "metadata": {},
   "source": [
    "$$ h = \\frac{\\left(D_0^2 + H_E^2\\right)^{1/2}}{\\left( 1 + \\gamma\\left(1 - \\frac{f}{f_2}\\right)^2\\right)^{1/2}} $$\n",
    "$$ h = h_1 + h_2 $$ \n",
    "$$ h_1 = \\left(1 - \\frac{f}{f_2}\\right)h, \\quad \\quad h_2 = \\frac{f}{f_2}h $$\n",
    "\n",
    "$$ D^2_0(x,y) = -\\frac{2f^2}{\\beta g'_2}\\int_x^{x_e}w_e(x',y)dx' $$ "
   ]
  },
  {
   "cell_type": "markdown",
   "metadata": {},
   "source": [
    "$$ w_e = -\\sin(\\pi y) $$ \n",
    "for $x_e = 1$ we have \n",
    "$$ D^2_0(x,y) = -\\frac{2f^2}{\\beta g'_2}\\int_x^{1}w_e(x,y)dx = 2f^2(1-x)\\sin(\\pi y) $$ \n",
    "considering $\\beta = g'_2 = 1$"
   ]
  },
  {
   "cell_type": "code",
   "execution_count": null,
   "metadata": {
    "collapsed": true
   },
   "outputs": [],
   "source": [
    "xx = np.arange(0, 1.1, 0.1)\n",
    "yy = np.arange(0, 1.1, 0.1)\n",
    "x, y = np.meshgrid(xx, yy, sparse=True)\n",
    "\n",
    "def h(x, y, H_E, y_2):\n",
    "#     H_E = 0.9\n",
    "    gamma = 1\n",
    "    beta = 1\n",
    "    f0 = 0.5\n",
    "    f = f0 + beta * y\n",
    "    f_2 = f0 + beta * y_2\n",
    "    D0 = np.sqrt( 2 * f**2 * (1-x)*np.sin(np.pi * y) )\n",
    "    return (D0**2 + H_E**2)**0.5 / (1 + gamma*(1 - f / f_2)**2)**0.5\n",
    "\n",
    "def h1(x, y, H_E, y_2):\n",
    "    beta = 1\n",
    "    f0 = 0.5\n",
    "    f = f0 + beta * y\n",
    "    f_2 = f0 + beta * y_2\n",
    "    return (1 - f / f_2) * h(x, y, H_E, y_2)"
   ]
  },
  {
   "cell_type": "code",
   "execution_count": null,
   "metadata": {},
   "outputs": [],
   "source": [
    "y_2 = 0.7\n",
    "H_E = 0.5\n",
    "\n",
    "fig = plt.figure()\n",
    "fig.set_figwidth(fig.get_figwidth() * 2)\n",
    "\n",
    "axes= fig.add_subplot(1,2,1)\n",
    "xx = np.arange(0, 1.1, 0.1)\n",
    "plt.contourf(xx, yy, h(x,y, H_E = H_E, y_2 = y_2))\n",
    "plt.hlines(0.8,xmin=0, xmax=1, linestyle='--')\n",
    "plt.xlabel('x', fontsize = 15)\n",
    "plt.ylabel('y', fontsize = 15)\n",
    "plt.title('Total thickness ($h$)')\n",
    "\n",
    "axes= fig.add_subplot(1,2,2)\n",
    "plt.contourf(xx, yy, h1(x,y, H_E = H_E, y_2 = y_2))\n",
    "plt.hlines(0.8,xmin=0, xmax=1, linestyle='--')\n",
    "plt.xlabel('x', fontsize = 15)\n",
    "plt.ylabel('y', fontsize = 15)\n",
    "plt.title('Upper-layer thickness ($h_1$)')\n",
    "plt.show()"
   ]
  },
  {
   "cell_type": "code",
   "execution_count": null,
   "metadata": {
    "collapsed": true
   },
   "outputs": [],
   "source": []
  }
 ],
 "metadata": {
  "kernelspec": {
   "display_name": "pangeo2020",
   "language": "python",
   "name": "pangeo2020"
  }
 },
 "nbformat": 4,
 "nbformat_minor": 2
}
